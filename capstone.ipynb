#this notebook is going to be used mainly for Capstone Project

import pandas as pd
import numpy as np

print("Hello Capstone Project Course")


